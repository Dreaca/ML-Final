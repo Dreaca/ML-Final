{
 "cells": [
  {
   "cell_type": "code",
   "execution_count": 9,
   "id": "358fa99e",
   "metadata": {},
   "outputs": [],
   "source": [
    "import joblib\n",
    "from sklearn.linear_model import LogisticRegression"
   ]
  },
  {
   "cell_type": "code",
   "execution_count": 10,
   "id": "0cf80af2",
   "metadata": {},
   "outputs": [],
   "source": [
    "vectorizer = joblib.load(\"../artifacts/vectorizer.joblib\")\n",
    "df_train = joblib.load(\"../artifacts/df_train_preprocessed.joblib\")\n",
    "df_validation = joblib.load(\"../artifacts/df_val_preprocessed.joblib\")\n",
    "df_test = joblib.load(\"../artifacts/df_test_preprocessed.joblib\")"
   ]
  },
  {
   "cell_type": "markdown",
   "id": "a31253a7",
   "metadata": {},
   "source": [
    "Loading the fitted vectorizer and the preprocessed dataset from 1_eda_preprocessing.ipynb"
   ]
  },
  {
   "cell_type": "code",
   "execution_count": null,
   "id": "02113da7",
   "metadata": {},
   "outputs": [
    {
     "data": {
      "text/plain": [
       "['../artifacts/model.joblib']"
      ]
     },
     "execution_count": 12,
     "metadata": {},
     "output_type": "execute_result"
    }
   ],
   "source": [
    "\n",
    "X_train_vec = vectorizer.transform(df_train[\"combined_text\"])\n",
    "X_val_vec = vectorizer.transform(df_validation[\"combined_text\"])\n",
    "\n",
    "# Train model\n",
    "clf = LogisticRegression(max_iter=1000, class_weight=\"balanced\")\n",
    "clf.fit(X_train_vec, df_train[\"medical_specialty\"])\n",
    "\n",
    "# Save final model pipeline (vectorizer + classifier)\n",
    "from sklearn.pipeline import Pipeline\n",
    "final_pipeline = Pipeline([\n",
    "    ('tfidf', vectorizer),\n",
    "    ('clf', clf)\n",
    "])\n",
    "\n"
   ]
  },
  {
   "cell_type": "markdown",
   "id": "07e91fd4",
   "metadata": {},
   "source": [
    "The model gets trained here and an artifact is created from the model. \n",
    "- Model was evaluated thoroughly before settling down with this version."
   ]
  },
  {
   "cell_type": "code",
   "execution_count": 13,
   "id": "11a69c88",
   "metadata": {},
   "outputs": [
    {
     "name": "stdout",
     "output_type": "stream",
     "text": [
      "📊 Validation Accuracy: 0.8243\n",
      "📊 Test Accuracy: 0.8135\n"
     ]
    }
   ],
   "source": [
    "# Evaluate Validation\n",
    "val_acc = final_pipeline.score(\n",
    "    df_validation[\"combined_text\"], \n",
    "    df_validation[\"medical_specialty\"]\n",
    ")\n",
    "\n",
    "# Evaluate Test\n",
    "test_acc = final_pipeline.score(\n",
    "    df_test[\"combined_text\"], \n",
    "    df_test[\"medical_specialty\"]\n",
    ")\n",
    "\n",
    "print(f\"📊 Validation Accuracy: {val_acc:.4f}\")\n",
    "print(f\"📊 Test Accuracy: {test_acc:.4f}\")\n"
   ]
  },
  {
   "cell_type": "markdown",
   "id": "aa079b76",
   "metadata": {},
   "source": [
    "Here the accuracy ratings for the model is shown. \n",
    "- This 0.8243 showed the best potential withing the given time period therefore is selected as the model for deploying."
   ]
  },
  {
   "cell_type": "code",
   "execution_count": 14,
   "id": "ea2724fe",
   "metadata": {},
   "outputs": [
    {
     "name": "stderr",
     "output_type": "stream",
     "text": [
      "c:\\Users\\lapcity\\AppData\\Local\\Programs\\Python\\Python313\\Lib\\site-packages\\sklearn\\linear_model\\_logistic.py:1272: FutureWarning: 'multi_class' was deprecated in version 1.5 and will be removed in 1.7. From then on, it will always use 'multinomial'. Leave it to its default value to avoid this warning.\n",
      "  warnings.warn(\n",
      "c:\\Users\\lapcity\\AppData\\Local\\Programs\\Python\\Python313\\Lib\\site-packages\\sklearn\\linear_model\\_logistic.py:1272: FutureWarning: 'multi_class' was deprecated in version 1.5 and will be removed in 1.7. From then on, it will always use 'multinomial'. Leave it to its default value to avoid this warning.\n",
      "  warnings.warn(\n",
      "c:\\Users\\lapcity\\AppData\\Local\\Programs\\Python\\Python313\\Lib\\site-packages\\sklearn\\linear_model\\_logistic.py:1272: FutureWarning: 'multi_class' was deprecated in version 1.5 and will be removed in 1.7. From then on, it will always use 'multinomial'. Leave it to its default value to avoid this warning.\n",
      "  warnings.warn(\n",
      "c:\\Users\\lapcity\\AppData\\Local\\Programs\\Python\\Python313\\Lib\\site-packages\\sklearn\\linear_model\\_logistic.py:1272: FutureWarning: 'multi_class' was deprecated in version 1.5 and will be removed in 1.7. From then on, it will always use 'multinomial'. Leave it to its default value to avoid this warning.\n",
      "  warnings.warn(\n",
      "c:\\Users\\lapcity\\AppData\\Local\\Programs\\Python\\Python313\\Lib\\site-packages\\sklearn\\linear_model\\_logistic.py:1272: FutureWarning: 'multi_class' was deprecated in version 1.5 and will be removed in 1.7. From then on, it will always use 'multinomial'. Leave it to its default value to avoid this warning.\n",
      "  warnings.warn(\n"
     ]
    },
    {
     "name": "stdout",
     "output_type": "stream",
     "text": [
      "📊 Cross-Validation Accuracy: 0.8167 (+/- 0.0140)\n",
      "Fitting 3 folds for each of 216 candidates, totalling 648 fits\n"
     ]
    },
    {
     "name": "stderr",
     "output_type": "stream",
     "text": [
      "c:\\Users\\lapcity\\AppData\\Local\\Programs\\Python\\Python313\\Lib\\site-packages\\sklearn\\linear_model\\_logistic.py:1272: FutureWarning: 'multi_class' was deprecated in version 1.5 and will be removed in 1.7. From then on, it will always use 'multinomial'. Leave it to its default value to avoid this warning.\n",
      "  warnings.warn(\n"
     ]
    },
    {
     "name": "stdout",
     "output_type": "stream",
     "text": [
      "✅ Best Parameters: {'clf__C': 10, 'tfidf__max_df': 0.9, 'tfidf__max_features': 5000, 'tfidf__min_df': 10, 'tfidf__ngram_range': (1, 1)}\n",
      "📊 Best CV Score: 0.7902\n",
      "📊 Validation Accuracy (best model): 0.8459\n",
      "📊 Test Accuracy (best model): 0.8324\n",
      "💾 Model saved to ../artifacts/model.joblib\n"
     ]
    }
   ],
   "source": [
    "from sklearn.pipeline import Pipeline\n",
    "from sklearn.linear_model import LogisticRegression\n",
    "from sklearn.feature_extraction.text import TfidfVectorizer\n",
    "from sklearn.model_selection import cross_val_score, GridSearchCV\n",
    "\n",
    "\n",
    "# -----------------------------\n",
    "# Step 1: Define Pipeline\n",
    "# -----------------------------\n",
    "class_weights = {\n",
    "    \"Orthopedic\": 2.0,\n",
    "    \"Neurology\": 1.5,\n",
    "    \"Neurosurgery\": 1.5,\n",
    "    # others default to 1.0\n",
    "}\n",
    "\n",
    "pipeline = Pipeline([\n",
    "    ('tfidf', TfidfVectorizer(stop_words='english', lowercase=True)),\n",
    "    ('clf', LogisticRegression(\n",
    "        multi_class='multinomial',  # Softmax regression\n",
    "        solver='lbfgs',\n",
    "        max_iter=1000,\n",
    "        class_weight=class_weights\n",
    "    ))\n",
    "])\n",
    "\n",
    "# -----------------------------\n",
    "# Step 2: Cross-Validation\n",
    "# -----------------------------\n",
    "cv_scores = cross_val_score(\n",
    "    pipeline, \n",
    "    df_train['combined_text'], \n",
    "    df_train['medical_specialty'], \n",
    "    cv=5, \n",
    "    scoring='accuracy'\n",
    ")\n",
    "print(f\"📊 Cross-Validation Accuracy: {cv_scores.mean():.4f} (+/- {cv_scores.std():.4f})\")\n",
    "\n",
    "# -----------------------------\n",
    "# Step 3: Hyperparameter Tuning (GridSearch)\n",
    "# -----------------------------\n",
    "param_grid = {\n",
    "    'tfidf__ngram_range': [(1,1), (1,2)],\n",
    "    'tfidf__max_df': [0.8, 0.9, 1.0],\n",
    "    'tfidf__min_df': [2, 5, 10],\n",
    "    'tfidf__max_features': [5000, 10000, 20000],\n",
    "    'clf__C': [0.01, 0.1, 1, 10]\n",
    "}\n",
    "\n",
    "grid = GridSearchCV(\n",
    "    pipeline, \n",
    "    param_grid, \n",
    "    cv=3, \n",
    "    scoring='recall_macro',  # recall_macro helps with rare classes\n",
    "    n_jobs=-1, \n",
    "    verbose=2\n",
    ")\n",
    "\n",
    "grid.fit(df_train['combined_text'], df_train['medical_specialty'])\n",
    "\n",
    "print(\"✅ Best Parameters:\", grid.best_params_)\n",
    "print(f\"📊 Best CV Score: {grid.best_score_:.4f}\")\n",
    "\n",
    "# -----------------------------\n",
    "# Step 4: Evaluate on Validation & Test Sets\n",
    "# -----------------------------\n",
    "best_model = grid.best_estimator_\n",
    "\n",
    "val_acc = best_model.score(\n",
    "    df_validation['combined_text'], \n",
    "    df_validation['medical_specialty']\n",
    ")\n",
    "test_acc = best_model.score(\n",
    "    df_test['combined_text'], \n",
    "    df_test['medical_specialty']\n",
    ")\n",
    "\n",
    "print(f\"📊 Validation Accuracy (best model): {val_acc:.4f}\")\n",
    "print(f\"📊 Test Accuracy (best model): {test_acc:.4f}\")\n",
    "\n",
    "# -----------------------------\n",
    "# Step 5: Save Best Model\n",
    "# -----------------------------\n",
    "joblib.dump(best_model, \"../artifacts/model.joblib\")\n",
    "print(\"💾 Model saved to ../artifacts/model.joblib\")"
   ]
  }
 ],
 "metadata": {
  "kernelspec": {
   "display_name": "Python 3",
   "language": "python",
   "name": "python3"
  },
  "language_info": {
   "codemirror_mode": {
    "name": "ipython",
    "version": 3
   },
   "file_extension": ".py",
   "mimetype": "text/x-python",
   "name": "python",
   "nbconvert_exporter": "python",
   "pygments_lexer": "ipython3",
   "version": "3.13.0"
  }
 },
 "nbformat": 4,
 "nbformat_minor": 5
}
